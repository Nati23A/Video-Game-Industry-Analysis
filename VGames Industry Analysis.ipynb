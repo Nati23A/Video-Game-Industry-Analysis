{
 "cells": [
  {
   "cell_type": "code",
   "execution_count": 6,
   "id": "73f1e37d",
   "metadata": {},
   "outputs": [],
   "source": [
    "import pandas as pd\n",
    "\n",
    "import seaborn as sns\n",
    "\n",
    "sns.set_style('whitegrid')\n",
    "\n",
    "import matplotlib.pyplot as plt\n",
    "\n",
    "%matplotlib inline"
   ]
  },
  {
   "cell_type": "code",
   "execution_count": 7,
   "id": "ed46ec55",
   "metadata": {
    "scrolled": false
   },
   "outputs": [
    {
     "data": {
      "text/html": [
       "<div>\n",
       "<style scoped>\n",
       "    .dataframe tbody tr th:only-of-type {\n",
       "        vertical-align: middle;\n",
       "    }\n",
       "\n",
       "    .dataframe tbody tr th {\n",
       "        vertical-align: top;\n",
       "    }\n",
       "\n",
       "    .dataframe thead th {\n",
       "        text-align: right;\n",
       "    }\n",
       "</style>\n",
       "<table border=\"1\" class=\"dataframe\">\n",
       "  <thead>\n",
       "    <tr style=\"text-align: right;\">\n",
       "      <th></th>\n",
       "      <th>Rank</th>\n",
       "      <th>Name</th>\n",
       "      <th>Platform</th>\n",
       "      <th>Year</th>\n",
       "      <th>Genre</th>\n",
       "      <th>Publisher</th>\n",
       "      <th>NA_Sales</th>\n",
       "      <th>EU_Sales</th>\n",
       "      <th>JP_Sales</th>\n",
       "      <th>Other_Sales</th>\n",
       "      <th>Global_Sales</th>\n",
       "    </tr>\n",
       "  </thead>\n",
       "  <tbody>\n",
       "    <tr>\n",
       "      <th>0</th>\n",
       "      <td>1</td>\n",
       "      <td>Wii Sports</td>\n",
       "      <td>Wii</td>\n",
       "      <td>2006.0</td>\n",
       "      <td>Sports</td>\n",
       "      <td>Nintendo</td>\n",
       "      <td>41.49</td>\n",
       "      <td>29.02</td>\n",
       "      <td>3.77</td>\n",
       "      <td>8.46</td>\n",
       "      <td>82.74</td>\n",
       "    </tr>\n",
       "    <tr>\n",
       "      <th>1</th>\n",
       "      <td>2</td>\n",
       "      <td>Super Mario Bros.</td>\n",
       "      <td>NES</td>\n",
       "      <td>1985.0</td>\n",
       "      <td>Platform</td>\n",
       "      <td>Nintendo</td>\n",
       "      <td>29.08</td>\n",
       "      <td>3.58</td>\n",
       "      <td>6.81</td>\n",
       "      <td>0.77</td>\n",
       "      <td>40.24</td>\n",
       "    </tr>\n",
       "    <tr>\n",
       "      <th>2</th>\n",
       "      <td>3</td>\n",
       "      <td>Mario Kart Wii</td>\n",
       "      <td>Wii</td>\n",
       "      <td>2008.0</td>\n",
       "      <td>Racing</td>\n",
       "      <td>Nintendo</td>\n",
       "      <td>15.85</td>\n",
       "      <td>12.88</td>\n",
       "      <td>3.79</td>\n",
       "      <td>3.31</td>\n",
       "      <td>35.82</td>\n",
       "    </tr>\n",
       "    <tr>\n",
       "      <th>3</th>\n",
       "      <td>4</td>\n",
       "      <td>Wii Sports Resort</td>\n",
       "      <td>Wii</td>\n",
       "      <td>2009.0</td>\n",
       "      <td>Sports</td>\n",
       "      <td>Nintendo</td>\n",
       "      <td>15.75</td>\n",
       "      <td>11.01</td>\n",
       "      <td>3.28</td>\n",
       "      <td>2.96</td>\n",
       "      <td>33.00</td>\n",
       "    </tr>\n",
       "    <tr>\n",
       "      <th>4</th>\n",
       "      <td>5</td>\n",
       "      <td>Pokemon Red/Pokemon Blue</td>\n",
       "      <td>GB</td>\n",
       "      <td>1996.0</td>\n",
       "      <td>Role-Playing</td>\n",
       "      <td>Nintendo</td>\n",
       "      <td>11.27</td>\n",
       "      <td>8.89</td>\n",
       "      <td>10.22</td>\n",
       "      <td>1.00</td>\n",
       "      <td>31.37</td>\n",
       "    </tr>\n",
       "    <tr>\n",
       "      <th>5</th>\n",
       "      <td>6</td>\n",
       "      <td>Tetris</td>\n",
       "      <td>GB</td>\n",
       "      <td>1989.0</td>\n",
       "      <td>Puzzle</td>\n",
       "      <td>Nintendo</td>\n",
       "      <td>23.20</td>\n",
       "      <td>2.26</td>\n",
       "      <td>4.22</td>\n",
       "      <td>0.58</td>\n",
       "      <td>30.26</td>\n",
       "    </tr>\n",
       "    <tr>\n",
       "      <th>6</th>\n",
       "      <td>7</td>\n",
       "      <td>New Super Mario Bros.</td>\n",
       "      <td>DS</td>\n",
       "      <td>2006.0</td>\n",
       "      <td>Platform</td>\n",
       "      <td>Nintendo</td>\n",
       "      <td>11.38</td>\n",
       "      <td>9.23</td>\n",
       "      <td>6.50</td>\n",
       "      <td>2.90</td>\n",
       "      <td>30.01</td>\n",
       "    </tr>\n",
       "    <tr>\n",
       "      <th>7</th>\n",
       "      <td>8</td>\n",
       "      <td>Wii Play</td>\n",
       "      <td>Wii</td>\n",
       "      <td>2006.0</td>\n",
       "      <td>Misc</td>\n",
       "      <td>Nintendo</td>\n",
       "      <td>14.03</td>\n",
       "      <td>9.20</td>\n",
       "      <td>2.93</td>\n",
       "      <td>2.85</td>\n",
       "      <td>29.02</td>\n",
       "    </tr>\n",
       "    <tr>\n",
       "      <th>8</th>\n",
       "      <td>9</td>\n",
       "      <td>New Super Mario Bros. Wii</td>\n",
       "      <td>Wii</td>\n",
       "      <td>2009.0</td>\n",
       "      <td>Platform</td>\n",
       "      <td>Nintendo</td>\n",
       "      <td>14.59</td>\n",
       "      <td>7.06</td>\n",
       "      <td>4.70</td>\n",
       "      <td>2.26</td>\n",
       "      <td>28.62</td>\n",
       "    </tr>\n",
       "    <tr>\n",
       "      <th>9</th>\n",
       "      <td>10</td>\n",
       "      <td>Duck Hunt</td>\n",
       "      <td>NES</td>\n",
       "      <td>1984.0</td>\n",
       "      <td>Shooter</td>\n",
       "      <td>Nintendo</td>\n",
       "      <td>26.93</td>\n",
       "      <td>0.63</td>\n",
       "      <td>0.28</td>\n",
       "      <td>0.47</td>\n",
       "      <td>28.31</td>\n",
       "    </tr>\n",
       "  </tbody>\n",
       "</table>\n",
       "</div>"
      ],
      "text/plain": [
       "   Rank                       Name Platform    Year         Genre Publisher  \\\n",
       "0     1                 Wii Sports      Wii  2006.0        Sports  Nintendo   \n",
       "1     2          Super Mario Bros.      NES  1985.0      Platform  Nintendo   \n",
       "2     3             Mario Kart Wii      Wii  2008.0        Racing  Nintendo   \n",
       "3     4          Wii Sports Resort      Wii  2009.0        Sports  Nintendo   \n",
       "4     5   Pokemon Red/Pokemon Blue       GB  1996.0  Role-Playing  Nintendo   \n",
       "5     6                     Tetris       GB  1989.0        Puzzle  Nintendo   \n",
       "6     7      New Super Mario Bros.       DS  2006.0      Platform  Nintendo   \n",
       "7     8                   Wii Play      Wii  2006.0          Misc  Nintendo   \n",
       "8     9  New Super Mario Bros. Wii      Wii  2009.0      Platform  Nintendo   \n",
       "9    10                  Duck Hunt      NES  1984.0       Shooter  Nintendo   \n",
       "\n",
       "   NA_Sales  EU_Sales  JP_Sales  Other_Sales  Global_Sales  \n",
       "0     41.49     29.02      3.77         8.46         82.74  \n",
       "1     29.08      3.58      6.81         0.77         40.24  \n",
       "2     15.85     12.88      3.79         3.31         35.82  \n",
       "3     15.75     11.01      3.28         2.96         33.00  \n",
       "4     11.27      8.89     10.22         1.00         31.37  \n",
       "5     23.20      2.26      4.22         0.58         30.26  \n",
       "6     11.38      9.23      6.50         2.90         30.01  \n",
       "7     14.03      9.20      2.93         2.85         29.02  \n",
       "8     14.59      7.06      4.70         2.26         28.62  \n",
       "9     26.93      0.63      0.28         0.47         28.31  "
      ]
     },
     "execution_count": 7,
     "metadata": {},
     "output_type": "execute_result"
    }
   ],
   "source": [
    "vgames_df = pd.read_excel('vgsales_excl.xlsx')\n",
    "\n",
    "vgames_df.head(10)"
   ]
  },
  {
   "cell_type": "code",
   "execution_count": 8,
   "id": "6ddfa095",
   "metadata": {
    "scrolled": true
   },
   "outputs": [
    {
     "name": "stdout",
     "output_type": "stream",
     "text": [
      "<class 'pandas.core.frame.DataFrame'>\n",
      "RangeIndex: 16598 entries, 0 to 16597\n",
      "Data columns (total 11 columns):\n",
      " #   Column        Non-Null Count  Dtype  \n",
      "---  ------        --------------  -----  \n",
      " 0   Rank          16598 non-null  int64  \n",
      " 1   Name          16598 non-null  object \n",
      " 2   Platform      16598 non-null  object \n",
      " 3   Year          16327 non-null  float64\n",
      " 4   Genre         16598 non-null  object \n",
      " 5   Publisher     16540 non-null  object \n",
      " 6   NA_Sales      16598 non-null  float64\n",
      " 7   EU_Sales      16598 non-null  float64\n",
      " 8   JP_Sales      16598 non-null  float64\n",
      " 9   Other_Sales   16598 non-null  float64\n",
      " 10  Global_Sales  16598 non-null  float64\n",
      "dtypes: float64(6), int64(1), object(4)\n",
      "memory usage: 1.4+ MB\n"
     ]
    }
   ],
   "source": [
    "vgames_df.info()"
   ]
  },
  {
   "cell_type": "markdown",
   "id": "96234e16",
   "metadata": {},
   "source": [
    "#### Cleanup:\n",
    "- The year column is a floting number instead of integer\n",
    "- The year and publisher columns have some missing values\n",
    "- Noticed some miscalculations in the global sales column"
   ]
  },
  {
   "cell_type": "code",
   "execution_count": 9,
   "id": "6e0f12d4",
   "metadata": {},
   "outputs": [
    {
     "name": "stdout",
     "output_type": "stream",
     "text": [
      "<class 'pandas.core.frame.DataFrame'>\n",
      "Int64Index: 16291 entries, 0 to 16597\n",
      "Data columns (total 11 columns):\n",
      " #   Column        Non-Null Count  Dtype  \n",
      "---  ------        --------------  -----  \n",
      " 0   Rank          16291 non-null  int64  \n",
      " 1   Name          16291 non-null  object \n",
      " 2   Platform      16291 non-null  object \n",
      " 3   Year          16291 non-null  int32  \n",
      " 4   Genre         16291 non-null  object \n",
      " 5   Publisher     16291 non-null  object \n",
      " 6   NA_Sales      16291 non-null  float64\n",
      " 7   EU_Sales      16291 non-null  float64\n",
      " 8   JP_Sales      16291 non-null  float64\n",
      " 9   Other_Sales   16291 non-null  float64\n",
      " 10  Global_Sales  16291 non-null  float64\n",
      "dtypes: float64(5), int32(1), int64(1), object(4)\n",
      "memory usage: 1.4+ MB\n"
     ]
    }
   ],
   "source": [
    "# Dropping all the rows that have null values \n",
    "vgames_df.dropna(axis=0, how='any', inplace=True)\n",
    "\n",
    "# Casting the Year column to an integer\n",
    "vgames_df['Year'] = vgames_df['Year'].astype(dtype=int)\n",
    "\n",
    "vgames_df.info()"
   ]
  },
  {
   "cell_type": "code",
   "execution_count": 10,
   "id": "28c74a43",
   "metadata": {},
   "outputs": [
    {
     "data": {
      "text/plain": [
       "6647"
      ]
     },
     "execution_count": 10,
     "metadata": {},
     "output_type": "execute_result"
    }
   ],
   "source": [
    "# Checking how many miscalculations the global sales column has\n",
    "vgames_df[vgames_df['Global_Sales'] != \n",
    "          vgames_df['NA_Sales'] + vgames_df['EU_Sales'] + vgames_df['JP_Sales'] + vgames_df['Other_Sales']].shape[0]"
   ]
  },
  {
   "cell_type": "code",
   "execution_count": 11,
   "id": "af211400",
   "metadata": {},
   "outputs": [],
   "source": [
    "# Recalculating the global sales\n",
    "def glob_sales_col(columns):\n",
    "    \n",
    "    na, eu, jp, oth = columns   \n",
    "    \n",
    "    return na + eu + jp + oth\n",
    "\n",
    "vgames_df['Global_Sales'] = vgames_df[['NA_Sales','EU_Sales','JP_Sales','Other_Sales']].apply(glob_sales_col, axis=1)"
   ]
  },
  {
   "cell_type": "code",
   "execution_count": 12,
   "id": "4d40bb17",
   "metadata": {},
   "outputs": [
    {
     "data": {
      "text/plain": [
       "0"
      ]
     },
     "execution_count": 12,
     "metadata": {},
     "output_type": "execute_result"
    }
   ],
   "source": [
    "# Checking if there are any miscalculations now\n",
    "vgames_df[vgames_df['Global_Sales'] != \n",
    "          vgames_df['NA_Sales'] + vgames_df['EU_Sales'] + vgames_df['JP_Sales'] + vgames_df['Other_Sales']].shape[0]"
   ]
  },
  {
   "cell_type": "code",
   "execution_count": 13,
   "id": "dba95026",
   "metadata": {},
   "outputs": [
    {
     "data": {
      "text/plain": [
       "array(['Wii', 'NES', 'GB', 'DS', 'X360', 'PS3', 'PS2', 'SNES', 'GBA',\n",
       "       '3DS', 'PS4', 'N64', 'PS', 'XB', 'PC', 2600, 'PSP', 'XOne', 'GC',\n",
       "       'WiiU', 'GEN', 'DC', 'PSV', 'SAT', 'SCD', 'WS', 'NG', 'TG16',\n",
       "       '3DO', 'GG', 'PCFX'], dtype=object)"
      ]
     },
     "execution_count": 13,
     "metadata": {},
     "output_type": "execute_result"
    }
   ],
   "source": [
    "# Making a console manufacturer column (focusing on the big 3)\n",
    "vgames_df['Platform'].unique()"
   ]
  },
  {
   "cell_type": "code",
   "execution_count": 14,
   "id": "bc86cfd6",
   "metadata": {},
   "outputs": [],
   "source": [
    "sony_plats = ['PS','PS2','PS3','PS4','PSP','PSV']\n",
    "\n",
    "ms_plats = ['XB','X360','XOne']\n",
    "\n",
    "nintendo_plats = ['3DS','DS','GB','GBA','GC','N64','NES','SNES','Wii','WiiU']\n",
    "\n",
    "def plat_manufac(plat):\n",
    "    \n",
    "    if plat in sony_plats:\n",
    "        return 'Sony'\n",
    "    \n",
    "    elif plat in ms_plats:\n",
    "        return 'Microsoft'\n",
    "    \n",
    "    elif plat in nintendo_plats:\n",
    "        return 'Nintendo'    \n",
    "    \n",
    "    else:\n",
    "        return 'Other'"
   ]
  },
  {
   "cell_type": "code",
   "execution_count": 15,
   "id": "9af49770",
   "metadata": {
    "scrolled": true
   },
   "outputs": [
    {
     "data": {
      "text/plain": [
       "Sony         6563\n",
       "Nintendo     6141\n",
       "Microsoft    2250\n",
       "Other        1337\n",
       "Name: Platform_Manufacturer, dtype: int64"
      ]
     },
     "execution_count": 15,
     "metadata": {},
     "output_type": "execute_result"
    }
   ],
   "source": [
    "vgames_df['Platform_Manufacturer'] = vgames_df['Platform'].apply(plat_manufac)\n",
    "\n",
    "vgames_df['Platform_Manufacturer'].value_counts()"
   ]
  },
  {
   "cell_type": "code",
   "execution_count": 16,
   "id": "45a2db08",
   "metadata": {},
   "outputs": [
    {
     "data": {
      "text/plain": [
       "4"
      ]
     },
     "execution_count": 16,
     "metadata": {},
     "output_type": "execute_result"
    }
   ],
   "source": [
    "# There's little to no data in 2017 & 2020 so i'll remove it for the visualization\n",
    "vgames_df[vgames_df['Year'] > 2016].shape[0]"
   ]
  },
  {
   "cell_type": "code",
   "execution_count": 17,
   "id": "405b7bbe",
   "metadata": {},
   "outputs": [
    {
     "data": {
      "text/html": [
       "<div>\n",
       "<style scoped>\n",
       "    .dataframe tbody tr th:only-of-type {\n",
       "        vertical-align: middle;\n",
       "    }\n",
       "\n",
       "    .dataframe tbody tr th {\n",
       "        vertical-align: top;\n",
       "    }\n",
       "\n",
       "    .dataframe thead th {\n",
       "        text-align: right;\n",
       "    }\n",
       "</style>\n",
       "<table border=\"1\" class=\"dataframe\">\n",
       "  <thead>\n",
       "    <tr style=\"text-align: right;\">\n",
       "      <th></th>\n",
       "      <th>Rank</th>\n",
       "      <th>Name</th>\n",
       "      <th>Platform</th>\n",
       "      <th>Year</th>\n",
       "      <th>Genre</th>\n",
       "      <th>Publisher</th>\n",
       "      <th>NA_Sales</th>\n",
       "      <th>EU_Sales</th>\n",
       "      <th>JP_Sales</th>\n",
       "      <th>Other_Sales</th>\n",
       "      <th>Global_Sales</th>\n",
       "      <th>Platform_Manufacturer</th>\n",
       "    </tr>\n",
       "  </thead>\n",
       "  <tbody>\n",
       "    <tr>\n",
       "      <th>16431</th>\n",
       "      <td>16434</td>\n",
       "      <td>Kamigami no Asobi InFinite</td>\n",
       "      <td>PSV</td>\n",
       "      <td>2016</td>\n",
       "      <td>Adventure</td>\n",
       "      <td>Broccoli</td>\n",
       "      <td>0.00</td>\n",
       "      <td>0.00</td>\n",
       "      <td>0.01</td>\n",
       "      <td>0.00</td>\n",
       "      <td>0.01</td>\n",
       "      <td>Sony</td>\n",
       "    </tr>\n",
       "    <tr>\n",
       "      <th>1026</th>\n",
       "      <td>1028</td>\n",
       "      <td>Overwatch</td>\n",
       "      <td>PS4</td>\n",
       "      <td>2016</td>\n",
       "      <td>Shooter</td>\n",
       "      <td>Activision</td>\n",
       "      <td>0.64</td>\n",
       "      <td>0.68</td>\n",
       "      <td>0.14</td>\n",
       "      <td>0.26</td>\n",
       "      <td>1.72</td>\n",
       "      <td>Sony</td>\n",
       "    </tr>\n",
       "    <tr>\n",
       "      <th>16051</th>\n",
       "      <td>16054</td>\n",
       "      <td>Battle Worlds: Kronos</td>\n",
       "      <td>PC</td>\n",
       "      <td>2016</td>\n",
       "      <td>Strategy</td>\n",
       "      <td>Nordic Games</td>\n",
       "      <td>0.00</td>\n",
       "      <td>0.01</td>\n",
       "      <td>0.00</td>\n",
       "      <td>0.00</td>\n",
       "      <td>0.01</td>\n",
       "      <td>Other</td>\n",
       "    </tr>\n",
       "    <tr>\n",
       "      <th>11167</th>\n",
       "      <td>11169</td>\n",
       "      <td>Lego Star Wars: The Force Awakens</td>\n",
       "      <td>WiiU</td>\n",
       "      <td>2016</td>\n",
       "      <td>Action</td>\n",
       "      <td>Warner Bros. Interactive Entertainment</td>\n",
       "      <td>0.04</td>\n",
       "      <td>0.04</td>\n",
       "      <td>0.00</td>\n",
       "      <td>0.01</td>\n",
       "      <td>0.09</td>\n",
       "      <td>Nintendo</td>\n",
       "    </tr>\n",
       "    <tr>\n",
       "      <th>14847</th>\n",
       "      <td>14850</td>\n",
       "      <td>Terraria</td>\n",
       "      <td>WiiU</td>\n",
       "      <td>2016</td>\n",
       "      <td>Action</td>\n",
       "      <td>505 Games</td>\n",
       "      <td>0.00</td>\n",
       "      <td>0.02</td>\n",
       "      <td>0.00</td>\n",
       "      <td>0.00</td>\n",
       "      <td>0.02</td>\n",
       "      <td>Nintendo</td>\n",
       "    </tr>\n",
       "  </tbody>\n",
       "</table>\n",
       "</div>"
      ],
      "text/plain": [
       "        Rank                               Name Platform  Year      Genre  \\\n",
       "16431  16434         Kamigami no Asobi InFinite      PSV  2016  Adventure   \n",
       "1026    1028                          Overwatch      PS4  2016    Shooter   \n",
       "16051  16054              Battle Worlds: Kronos       PC  2016   Strategy   \n",
       "11167  11169  Lego Star Wars: The Force Awakens     WiiU  2016     Action   \n",
       "14847  14850                           Terraria     WiiU  2016     Action   \n",
       "\n",
       "                                    Publisher  NA_Sales  EU_Sales  JP_Sales  \\\n",
       "16431                                Broccoli      0.00      0.00      0.01   \n",
       "1026                               Activision      0.64      0.68      0.14   \n",
       "16051                            Nordic Games      0.00      0.01      0.00   \n",
       "11167  Warner Bros. Interactive Entertainment      0.04      0.04      0.00   \n",
       "14847                               505 Games      0.00      0.02      0.00   \n",
       "\n",
       "       Other_Sales  Global_Sales Platform_Manufacturer  \n",
       "16431         0.00          0.01                  Sony  \n",
       "1026          0.26          1.72                  Sony  \n",
       "16051         0.00          0.01                 Other  \n",
       "11167         0.01          0.09              Nintendo  \n",
       "14847         0.00          0.02              Nintendo  "
      ]
     },
     "execution_count": 17,
     "metadata": {},
     "output_type": "execute_result"
    }
   ],
   "source": [
    "vgames_df.drop(vgames_df[vgames_df['Year'] == 2017].index, inplace=True)\n",
    "\n",
    "vgames_df.drop(vgames_df[vgames_df['Year'] == 2020].index, inplace=True)\n",
    "\n",
    "vgames_df.sort_values(by='Year', ascending=False).head()"
   ]
  },
  {
   "cell_type": "code",
   "execution_count": 18,
   "id": "5fcbda13",
   "metadata": {},
   "outputs": [
    {
     "name": "stdout",
     "output_type": "stream",
     "text": [
      "clean_vgames.xlsx was successfully created!\n"
     ]
    }
   ],
   "source": [
    "# Saving the file for future tableau visualizations\n",
    "import os\n",
    "\n",
    "fpath = 'C:/Users/nati1/Documents/My Datasets'\n",
    "\n",
    "fname = 'clean_vgames.xlsx'\n",
    "\n",
    "if not os.path.exists(fpath + '/' + fname):\n",
    "    \n",
    "    vgames_df.to_excel(fpath + '/' + fname)\n",
    "    \n",
    "    print(f'{fname} was successfully created!')\n",
    "    \n",
    "else:\n",
    "    \n",
    "    print('The file already exists')"
   ]
  },
  {
   "cell_type": "markdown",
   "id": "ad966ca2",
   "metadata": {},
   "source": [
    "## Let's make some plots to get a general sense of the dataset\n",
    "### What was the most profitable year for the video game industry?"
   ]
  },
  {
   "cell_type": "code",
   "execution_count": 19,
   "id": "b05be70c",
   "metadata": {},
   "outputs": [
    {
     "data": {
      "text/plain": [
       "Text(0.5, 1.0, 'Video Games Global Sales Revenue')"
      ]
     },
     "execution_count": 19,
     "metadata": {},
     "output_type": "execute_result"
    },
    {
     "data": {
      "image/png": "[encoded data removed]",
      "text/plain": [
       "<Figure size 1080x360 with 1 Axes>"
      ]
     },
     "metadata": {
      "needs_background": "light"
     },
     "output_type": "display_data"
    }
   ],
   "source": [
    "# Creating a dataframe grouping all the years and summing the sales values\n",
    "yearly_sales = vgames_df[['Year','Global_Sales']].groupby(['Year']).sum()\n",
    "\n",
    "# Plot \n",
    "yearly_sales.plot(figsize=(15,5))\n",
    "\n",
    "plt.xticks(yearly_sales.index, rotation=45, fontsize=11)\n",
    "\n",
    "plt.xlim(yearly_sales.index.min(), yearly_sales.index.max())\n",
    "\n",
    "plt.xlabel('Year', fontsize=12)\n",
    "\n",
    "plt.ylabel('Sales Revenue (In Millions)', fontsize=12)\n",
    "\n",
    "plt.title('Video Games Global Sales Revenue', fontsize=15)"
   ]
  },
  {
   "cell_type": "markdown",
   "id": "1334bce7",
   "metadata": {},
   "source": [
    "### What platform sold the most games?"
   ]
  },
  {
   "cell_type": "code",
   "execution_count": 20,
   "id": "0cb9c5a6",
   "metadata": {},
   "outputs": [
    {
     "data": {
      "text/plain": [
       "Text(0.5, 1.0, 'Platforms Sales Revenue')"
      ]
     },
     "execution_count": 20,
     "metadata": {},
     "output_type": "execute_result"
    },
    {
     "data": {
      "image/png": "[encoded data removed]",
      "text/plain": [
       "<Figure size 1080x576 with 1 Axes>"
      ]
     },
     "metadata": {
      "needs_background": "light"
     },
     "output_type": "display_data"
    }
   ],
   "source": [
    "# Creating a dataframes containing the data I need\n",
    "platform_sales = vgames_df[['Platform','Global_Sales']].groupby(['Platform']).sum()\n",
    "\n",
    "platform_sales.sort_values('Global_Sales', ascending=False, inplace=True)\n",
    "\n",
    "# Plot\n",
    "plt.figure(figsize=(15,8))\n",
    "\n",
    "sns.barplot(x=platform_sales['Global_Sales'], y=platform_sales.index,\n",
    "           palette=\"Greens_r\" )\n",
    "\n",
    "plt.xlabel('Global Sales Revenue (In Millions)', fontsize=12)\n",
    "\n",
    "plt.ylabel('Platforms', fontsize=12)\n",
    "\n",
    "plt.title('Platforms Sales Revenue', fontsize=15)"
   ]
  },
  {
   "cell_type": "markdown",
   "id": "1d9bc1e3",
   "metadata": {},
   "source": [
    "### Which of the big console manufacturers (Sony, Microsoft & Nintendo) earned the most in each region?"
   ]
  },
  {
   "cell_type": "code",
   "execution_count": 21,
   "id": "1254e79a",
   "metadata": {
    "scrolled": false
   },
   "outputs": [
    {
     "data": {
      "text/plain": [
       "Text(0.5, 1.0, 'Manufacturers Sales Revenue By Regions')"
      ]
     },
     "execution_count": 21,
     "metadata": {},
     "output_type": "execute_result"
    },
    {
     "data": {
      "image/png": "[encoded data removed]",
      "text/plain": [
       "<Figure size 1080x360 with 1 Axes>"
      ]
     },
     "metadata": {
      "needs_background": "light"
     },
     "output_type": "display_data"
    }
   ],
   "source": [
    "# Setting up a new dataframe and sorting it\n",
    "sales_cols = ['Platform_Manufacturer', 'NA_Sales', 'EU_Sales', 'JP_Sales', 'Other_Sales']\n",
    "\n",
    "big3_sales = vgames_df[sales_cols].groupby(['Platform_Manufacturer']).sum()\n",
    "\n",
    "big3_sales.columns = ['North America', 'Europe', 'Japan', 'Rest of World']\n",
    "\n",
    "big3_sales.sort_values(['North America', 'Europe', 'Japan', 'Rest of World'], ascending=False, inplace=True)\n",
    "\n",
    "\n",
    "# Plot\n",
    "big3_sales.plot(kind='bar', figsize=(15,5))\n",
    "\n",
    "plt.xlabel('Platform Manufacturers', fontsize=12)\n",
    "\n",
    "plt.xticks(fontsize=11, rotation=0)\n",
    "\n",
    "plt.ylabel('Revenue (In Millions)', fontsize=12)\n",
    "\n",
    "plt.title('Manufacturers Sales Revenue By Regions', fontsize=15)"
   ]
  },
  {
   "cell_type": "markdown",
   "id": "9d8b794f",
   "metadata": {},
   "source": [
    "#### More Visualizations for this dataset (Tableau Public) - https://public.tableau.com/views/VideoGamesIndustry_16638744295450/IndustryDashboard?:language=en-US&:display_count=n&:origin=viz_share_link"
   ]
  },
  {
   "cell_type": "code",
   "execution_count": null,
   "id": "ad427d35",
   "metadata": {},
   "outputs": [],
   "source": []
  }
 ],
 "metadata": {
  "kernelspec": {
   "display_name": "Python 3 (ipykernel)",
   "language": "python",
   "name": "python3"
  },
  "language_info": {
   "codemirror_mode": {
    "name": "ipython",
    "version": 3
   },
   "file_extension": ".py",
   "mimetype": "text/x-python",
   "name": "python",
   "nbconvert_exporter": "python",
   "pygments_lexer": "ipython3",
   "version": "3.9.7"
  }
 },
 "nbformat": 4,
 "nbformat_minor": 5
}
